{
 "cells": [
  {
   "cell_type": "code",
   "execution_count": null,
   "metadata": {},
   "outputs": [],
   "source": [
    "# Imports\n",
    "import os\n",
    "import csv\n",
    "import numpy as np\n",
    "import pandas as pd\n",
    "import matplotlib.pyplot as plt\n",
    "import random\n",
    "from operator import itemgetter\n",
    "import math"
   ]
  },
  {
   "cell_type": "code",
   "execution_count": null,
   "metadata": {},
   "outputs": [],
   "source": [
    "# Setting Directory to the LCR Data Set.\n",
    "# Then, sets up a Data Frame of the unfiltered data.\n",
    "# Finally, prints out the unfiltered data as a table.\n",
    "os.getcwd()\n",
    "os.chdir('/Users/glatiolait/Documents/LCR/LCR_files+scripts')\n",
    "table = \"new_db_Feb2023.csv\"\n",
    "opened = open(table,\"r\")\n",
    "readed = pd.read_csv(table, sep=\",\")\n",
    "tablelist = list(csv.reader(readed))\n",
    "data_array = np.array(readed)\n",
    "df = pd.DataFrame(data_array)"
   ]
  },
  {
   "cell_type": "code",
   "execution_count": null,
   "metadata": {},
   "outputs": [],
   "source": [
    "# Prompts the User for a selection of Cadence values. \n",
    "# I accounted for possible misspellings regarding capitalization.\n",
    "# If the cadence value inputted is incorrect, then an error is displayed.\n",
    "# The function then takes the inputted cadence string, and filters the DataFrame table with that.\n",
    "\n",
    "cadence = input(\"Input Cadence Selection. (daily, weekly, or monthly) Case Sensitive.\")\n",
    "if cadence not in ['daily', 'Daily', 'weekly', 'Weekly', 'monthly', 'Monthly']:\n",
    "    print(\"Error. Invalid option\")\n",
    "\n",
    "# This section takes the user input for cadence, and then outputs a data set for a random source within that cadence value.\n",
    "# The randomsource variable takes a random name from the list, so some sources may be weighted far more heavily than others.\n",
    "# I am not sure if the randomness is necessary, but it allowed an easy way to test multiple graphs.\n",
    "# I have also included a default source name to check against consistently.\n",
    "\n",
    "randomsource = np.random.choice(data_array[:,1])\n",
    "randomsource = '4FGL J0001.2-0747'\n",
    "\n",
    "\n",
    "# Prints out which source was randomly picked. Not necessary for using the default option.\n",
    "print(randomsource)\n",
    "\n",
    "# Filters the catalogue to only randomsource, cadence, sigma values larger than 4, and photon flux values greater than their error margins.\n",
    "sortedsource = np.where((data_array[:,1] == randomsource) & (data_array[:,2]==cadence) & (data_array[:,-1] >= 4) & (data_array[:,6] < data_array[:,5]))\n",
    "\n",
    "# Displays the dataframe to ensure everything is working as intended. Will omit in the future.\n",
    "pd.DataFrame(data_array[sortedsource])"
   ]
  },
  {
   "cell_type": "code",
   "execution_count": null,
   "metadata": {},
   "outputs": [],
   "source": [
    "def ransource():\n",
    "    # This function takes the user input for cadence, and then outputs a data set for a random source within that cadence value.\n",
    "    # I am not sure if the randomness is necessary, but it allowed an easy way to test multiple graphs.\n",
    "    \n",
    "    names = df.drop_duplicates(subset=[1], inplace=False)[1]\n",
    "    randomsource = np.random.choice(names)\n",
    "\n",
    "    print(randomsource)\n",
    "\n",
    "    # Filters the catalogue to only randomsource, cadence, sigma values larger than 4, and photon flux values greater than their error margins.\n",
    "    sortedsource = np.where((data_array[:,1] == randomsource) & (data_array[:,2]==cadence) & (data_array[:,-1] >= 4) & (data_array[:,6] < data_array[:,5]))\n",
    "\n",
    "    # Displays the dataframe to ensure everything is working as intended. Will omit in the future.\n",
    "    #pd.DataFrame(data_array[sortedsource])\n",
    "\n",
    "    # This block of code is where a majority of the plots will go.\n",
    "\n",
    "    GraphTest = (data_array[sortedsource])\n",
    "    Plot = pd.DataFrame(GraphTest)\n",
    "    ysize = GraphTest.size\n",
    "    x = pd.DataFrame(GraphTest[:,3]/(60*60*24*365))\n",
    "\n",
    "    # The title displays the name of the graph, with references that will vary the cadence and name of the source.\n",
    "    plt.title(\"Photon Flux vs \" + GraphTest[0,2] + \" Cadence of \" + GraphTest[0,1])\n",
    "\n",
    "    # The x-axis displays the time elapsed in seconds. I would like to convert this to be a range of years.\n",
    "    plt.xlabel(\"Mission Elapsed Time (seconds)\")\n",
    "\n",
    "    # The y-axis displays the Photon Flux. I don't believe the numerical labels are correct, but the shape of the graph appears to be correct.\n",
    "    plt.ylabel(\"Photon Flux (GeV ph cm^-2 s^-1)\")\n",
    "\n",
    "    # This is the actual function that plots the data. At the moment, it plots column 3 (Time) vs column 5 (Photon Flux)\n",
    "    #Graph = plt.plot(Plot[3],Plot[5])\n",
    "    plt.errorbar(Plot[3],Plot[5],yerr=Plot[6],fmt = 'o-')\n",
    "    plt.hlines(np.mean(GraphTest[:,5]),2e8,7e8)\n"
   ]
  },
  {
   "cell_type": "code",
   "execution_count": null,
   "metadata": {},
   "outputs": [],
   "source": [
    "# This loop processes the entire database\n",
    "# It goes through each source, and determines the average flux of the entire source, and the fraction of the flux at each of those time bins.\n",
    "names = df.drop_duplicates(subset=[1], inplace=False)[1]\n",
    "fmatrix = []\n",
    "fractionalflux = []\n",
    "for name in names:\n",
    "    print(name)\n",
    "    source_array = (data_array[np.where(data_array[:,1] == name)])\n",
    "    averageflux = np.nanmean(source_array[:,5])\n",
    "\n",
    "    factors = source_array[:,5]/averageflux\n",
    "\n",
    "    fmatrix.append(factors)\n",
    "    print(factors)\n",
    "    fractionalflux.append((name,factors,averageflux))\n",
    "\n",
    "\n",
    "pd.DataFrame(fractionalflux)"
   ]
  },
  {
   "cell_type": "code",
   "execution_count": null,
   "metadata": {},
   "outputs": [],
   "source": [
    "# This is just for making the files look nicer. I dont believe that this will affect the actual arrays.\n",
    "fractionalflux=pd.DataFrame(fractionalflux).rename(columns={0: 'source_name', 1: 'flux_values',2: 'average_flux'})\n",
    "fractionalflux.to_csv(r'/Users/glatiolait/Documents/Exports/monthly_fluxFeb2023.csv')\n"
   ]
  },
  {
   "cell_type": "code",
   "execution_count": null,
   "metadata": {},
   "outputs": [],
   "source": [
    "# This section plots each fractional point as a color-coded\n",
    "fmatrix=np.array(fmatrix)\n",
    "fmatrix = np.nan_to_num(fmatrix.astype(np.float64), nan=0.0)\n",
    "fig = plt.figure()\n",
    "ax = fig.add_subplot(111)\n",
    "cax = ax.matshow(fmatrix, interpolation='nearest')\n",
    "fig.colorbar(cax)\n",
    "cax.set_clim(0,2)\n"
   ]
  },
  {
   "cell_type": "code",
   "execution_count": null,
   "metadata": {},
   "outputs": [],
   "source": [
    "fmatrix = np.nan_to_num(fmatrix.astype(np.float64), nan=0.0)"
   ]
  },
  {
   "cell_type": "code",
   "execution_count": null,
   "metadata": {},
   "outputs": [],
   "source": [
    "def fvar(flux,flux_err):\n",
    "\t#Based on Equation (34) from K. K. Singh & P. J. Meintjes, Astronomische Nachrichten, Volume 341, Issue 713, pp. 713-725\n",
    "\t#Error calculated with Equation (37) of the same paper\n",
    "\n",
    "\tN=len(flux)\n",
    "\tvariance=np.nanvar(flux) #variance\n",
    "\tmean_squared_error=(1/N)*np.nansum(flux_err**2)\n",
    "\tmean_flux=np.nanmean(flux)\n",
    "\n",
    "\tnum=variance-mean_squared_error\n",
    "\tden=mean_flux**2\n",
    "\n",
    "\tfvar=np.sqrt(num/den)\n",
    "\n",
    "\tfvar_err=np.sqrt(fvar**2 + np.sqrt((2/N) * (mean_squared_error/den)**2 + (mean_squared_error/N) * (2*fvar/mean_flux)**2 )) - fvar\n",
    "\n",
    "\treturn fvar,fvar_err\n",
    "\n",
    "\n",
    "def fvar_percent(flux,flux_err):\n",
    "\t#Based on Equation (34) from K. K. Singh & P. J. Meintjes, Astronomische Nachrichten, Volume 341, Issue 713, pp. 713-725\n",
    "\t#Error calculated with Equation (37) of the same paper\n",
    "\t#Fvar value (and error) multiplied by 100 to express the fractional variability as a \"percentage-scaled\" value\n",
    "\n",
    "\tN=len(flux)\n",
    "\tvariance=np.nanvar(flux) #variance\n",
    "\tmean_squared_error=(1/N)*np.nansum(flux_err**2)\n",
    "\tmean_flux=np.nanmean(flux)\n",
    "\n",
    "\tnum=variance-mean_squared_error\n",
    "\tden=mean_flux**2\n",
    "\n",
    "\tfvar=np.sqrt(num/den)\n",
    "\n",
    "\tfvar_err=np.sqrt(fvar**2 + np.sqrt((2/N) * (mean_squared_error/den)**2 + (mean_squared_error/N) * (2*fvar/mean_flux)**2 )) - fvar\n",
    "\n",
    "\treturn fvar*100,fvar_err*100"
   ]
  },
  {
   "cell_type": "code",
   "execution_count": null,
   "metadata": {},
   "outputs": [],
   "source": [
    "names = df.drop_duplicates(subset=[1], inplace=False)[1]\n",
    "fmatrix = []\n",
    "Esras3 = []\n",
    "for name in names:\n",
    "    print(name)\n",
    "    source_array = (data_array[np.where(data_array[:,1] == name)])\n",
    "    flux = source_array[:,5]\n",
    "    flux_err = source_array[:,6]\n",
    "\n",
    "    factors = source_array[:,5]/averageflux\n",
    "\n",
    "    fmatrix.append(factors)\n",
    "    print(factors)\n",
    "    Esras3.append((name,factors,averageflux,flux,flux_err))\n",
    "\n",
    "\n",
    "pd.DataFrame(Esras3)"
   ]
  },
  {
   "cell_type": "code",
   "execution_count": null,
   "metadata": {},
   "outputs": [],
   "source": [
    "flux = Esras3[1][3]\n",
    "flux_err = Esras3[1][4]\n",
    "print(fvar(flux,flux_err))\n",
    "print(fvar_percent(flux,flux_err))"
   ]
  },
  {
   "cell_type": "code",
   "execution_count": null,
   "metadata": {},
   "outputs": [],
   "source": [
    "flux = np.nan_to_num(Esras3[1][3].astype(np.float64), nan=0.0)\n",
    "flux_err = np.nan_to_num(Esras3[1][4].astype(np.float64), nan=0.0)\n",
    "print(fvar(flux,flux_err))\n",
    "print(fvar_percent(flux,flux_err))"
   ]
  },
  {
   "cell_type": "code",
   "execution_count": null,
   "metadata": {},
   "outputs": [],
   "source": []
  }
 ],
 "metadata": {
  "kernelspec": {
   "display_name": "base",
   "language": "python",
   "name": "python3"
  },
  "language_info": {
   "codemirror_mode": {
    "name": "ipython",
    "version": 3
   },
   "file_extension": ".py",
   "mimetype": "text/x-python",
   "name": "python",
   "nbconvert_exporter": "python",
   "pygments_lexer": "ipython3",
   "version": "3.11.7"
  }
 },
 "nbformat": 4,
 "nbformat_minor": 2
}
