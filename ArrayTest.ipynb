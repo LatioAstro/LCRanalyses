{
 "cells": [
  {
   "cell_type": "code",
   "execution_count": 120,
   "id": "fb3bfff1-d489-49e2-8031-76ae660fa28a",
   "metadata": {},
   "outputs": [],
   "source": [
    "import os\n",
    "import csv\n",
    "import numpy as np\n",
    "import pandas as pd\n",
    "import matplotlib.pyplot as plt\n"
   ]
  },
  {
   "cell_type": "code",
   "execution_count": 121,
   "id": "77acd695-2ad3-476c-bd01-132d45b187a0",
   "metadata": {},
   "outputs": [],
   "source": [
    "a = [[1,2,3,4,5,6,7],[7,6,5,4,3,2,1],[4,5,6,7,1,2,3],[1,2,3,4,5,6,7],[7,6,5,4,3,2,1],[4,5,6,7,1,2,3],[1,2,3,4,5,6,7],[7,6,5,4,3,2,1],[4,5,6,7,1,2,3],]"
   ]
  },
  {
   "cell_type": "code",
   "execution_count": 122,
   "id": "291e3bd9-09bc-4440-9a20-2053953f58c4",
   "metadata": {},
   "outputs": [],
   "source": [
    "nd_a = np.array(a)"
   ]
  },
  {
   "cell_type": "code",
   "execution_count": 123,
   "id": "a60fb996-86e4-4f9d-9a61-57b237fe4d3e",
   "metadata": {},
   "outputs": [
    {
     "data": {
      "text/plain": [
       "array([[1, 2, 3, 4, 5, 6, 7],\n",
       "       [7, 6, 5, 4, 3, 2, 1],\n",
       "       [4, 5, 6, 7, 1, 2, 3],\n",
       "       [1, 2, 3, 4, 5, 6, 7],\n",
       "       [7, 6, 5, 4, 3, 2, 1],\n",
       "       [4, 5, 6, 7, 1, 2, 3],\n",
       "       [1, 2, 3, 4, 5, 6, 7],\n",
       "       [7, 6, 5, 4, 3, 2, 1],\n",
       "       [4, 5, 6, 7, 1, 2, 3]])"
      ]
     },
     "execution_count": 123,
     "metadata": {},
     "output_type": "execute_result"
    }
   ],
   "source": [
    "np.array(a)"
   ]
  },
  {
   "cell_type": "code",
   "execution_count": 124,
   "id": "b28f92ab-80db-4c92-9028-e79c3b4bfb9b",
   "metadata": {
    "scrolled": true
   },
   "outputs": [
    {
     "name": "stdout",
     "output_type": "stream",
     "text": [
      "[[1 2 3 4 5 6 7]\n",
      " [7 6 5 4 3 2 1]\n",
      " [4 5 6 7 1 2 3]\n",
      " [1 2 3 4 5 6 7]\n",
      " [7 6 5 4 3 2 1]\n",
      " [4 5 6 7 1 2 3]\n",
      " [1 2 3 4 5 6 7]\n",
      " [7 6 5 4 3 2 1]\n",
      " [4 5 6 7 1 2 3]]\n"
     ]
    }
   ],
   "source": [
    "print(nd_a)"
   ]
  },
  {
   "cell_type": "code",
   "execution_count": 141,
   "id": "f4db9be2-ccc4-401a-a005-ce767438e5c6",
   "metadata": {},
   "outputs": [],
   "source": [
    "eventwo = nd_a[:,0] >= 2\n",
    "first = nd_a[:,0]\n",
    "second = nd_a[:,1]"
   ]
  },
  {
   "cell_type": "code",
   "execution_count": 126,
   "id": "dfb521f5-7c83-4baf-babe-9aed475428ad",
   "metadata": {},
   "outputs": [
    {
     "name": "stdout",
     "output_type": "stream",
     "text": [
      "[False  True  True False  True  True False  True  True]\n"
     ]
    }
   ],
   "source": [
    "print(eventwo)"
   ]
  },
  {
   "cell_type": "code",
   "execution_count": 148,
   "id": "59da4bc6-9f90-4667-a735-715ff064e79c",
   "metadata": {},
   "outputs": [],
   "source": [
    "\n",
    "filtered = nd_a[eventwo]"
   ]
  },
  {
   "cell_type": "code",
   "execution_count": 149,
   "id": "a99c7b69-3b2c-4fa2-a1ff-a34b0714ec34",
   "metadata": {},
   "outputs": [],
   "source": [
    "base = np.zeros(len(nd_a))"
   ]
  },
  {
   "cell_type": "code",
   "execution_count": 150,
   "id": "d5dc3835-160c-412f-a54f-35b9e10a3ab9",
   "metadata": {},
   "outputs": [
    {
     "data": {
      "text/plain": [
       "array([0., 0., 0., 0., 0., 0., 0., 0., 0.])"
      ]
     },
     "execution_count": 150,
     "metadata": {},
     "output_type": "execute_result"
    }
   ],
   "source": [
    "base"
   ]
  },
  {
   "cell_type": "code",
   "execution_count": 151,
   "id": "836277c2-425b-4ec9-ad0b-de4fcd933dca",
   "metadata": {},
   "outputs": [
    {
     "data": {
      "text/plain": [
       "array([ 8,  3, 28, 20,  6, 49, 32,  4,  4])"
      ]
     },
     "execution_count": 151,
     "metadata": {},
     "output_type": "execute_result"
    }
   ],
   "source": [
    "first"
   ]
  },
  {
   "cell_type": "code",
   "execution_count": 152,
   "id": "c6bf5660-d79b-405d-bf95-2eab0202fe6b",
   "metadata": {},
   "outputs": [],
   "source": [
    "base[first>second]=1"
   ]
  },
  {
   "cell_type": "code",
   "execution_count": 153,
   "id": "c29f548c-cab8-4a15-a90f-005d0302ca12",
   "metadata": {},
   "outputs": [
    {
     "data": {
      "text/plain": [
       "array([0., 0., 1., 0., 0., 1., 0., 0., 0.])"
      ]
     },
     "execution_count": 153,
     "metadata": {},
     "output_type": "execute_result"
    }
   ],
   "source": [
    "base"
   ]
  },
  {
   "cell_type": "code",
   "execution_count": 154,
   "id": "2323d9ea-c3a8-4789-b00d-3c72e2dc0c78",
   "metadata": {},
   "outputs": [],
   "source": [
    "#Took this next part of code from a website to get the colors of each value. This is only for visual distinction, and nothing too important.\n",
    "# We'll color code by height, but you could use any scalar\n",
    "#fracs = y / y.max()\n",
    "\n",
    "# we need to normalize the data to 0..1 for the full range of the colormap\n",
    "#norm = colors.Normalize(fracs.min(), fracs.max())\n",
    "\n",
    "# Now, we'll loop through our objects and set the color of each accordingly\n",
    "#for thisfrac, thispatch in zip(fracs, patches):\n",
    "#    color = plt.cm.viridis(norm(thisfrac))\n",
    "#    thispatch.set_facecolor(color)"
   ]
  },
  {
   "cell_type": "code",
   "execution_count": null,
   "id": "d8e3698c-2af8-4084-ba29-d1c59014a911",
   "metadata": {},
   "outputs": [],
   "source": []
  }
 ],
 "metadata": {
  "kernelspec": {
   "display_name": "Python 3 (ipykernel)",
   "language": "python",
   "name": "python3"
  },
  "language_info": {
   "codemirror_mode": {
    "name": "ipython",
    "version": 3
   },
   "file_extension": ".py",
   "mimetype": "text/x-python",
   "name": "python",
   "nbconvert_exporter": "python",
   "pygments_lexer": "ipython3",
   "version": "3.11.7"
  }
 },
 "nbformat": 4,
 "nbformat_minor": 5
}
